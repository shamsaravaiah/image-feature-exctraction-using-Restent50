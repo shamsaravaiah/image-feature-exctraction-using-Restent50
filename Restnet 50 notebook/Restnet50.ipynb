{
 "cells": [
  {
   "cell_type": "code",
   "execution_count": 7,
   "id": "209543f8-f674-41b3-af8f-7e2bf2ee58fb",
   "metadata": {},
   "outputs": [],
   "source": [
    "import numpy as np\n",
    "import tensorflow as tf\n",
    "from tensorflow.keras.applications import ResNet50\n",
    "from tensorflow.keras.applications.resnet50 import preprocess_input\n",
    "from tensorflow.keras.preprocessing import image\n"
   ]
  },
  {
   "cell_type": "code",
   "execution_count": 22,
   "id": "32693625-66aa-496e-b9ed-bdad7bb6d2f9",
   "metadata": {},
   "outputs": [
    {
     "name": "stdout",
     "output_type": "stream",
     "text": [
      "\u001b[1m1/1\u001b[0m \u001b[32m━━━━━━━━━━━━━━━━━━━━\u001b[0m\u001b[37m\u001b[0m \u001b[1m1s\u001b[0m 591ms/step\n"
     ]
    }
   ],
   "source": [
    "# Load pre-trained ResNet50 model\n",
    "model = ResNet50(weights='imagenet', include_top=False, pooling='avg')\n",
    "\n",
    "# Load and preprocess input image\n",
    "img_path = '/Users/sham_sara/Desktop/Restnet50/images.jpeg'\n",
    "img = image.load_img(img_path, target_size=(224, 224))\n",
    "x = image.img_to_array(img)\n",
    "x = np.expand_dims(x, axis=0)\n",
    "x = preprocess_input(x)\n",
    "\n",
    "# Extract features\n",
    "features = model.predict(x)\n",
    "\n",
    "# Now features contains the extracted features from the image"
   ]
  },
  {
   "cell_type": "code",
   "execution_count": 23,
   "id": "f0137eba-cdab-4317-8242-62a959fe6708",
   "metadata": {},
   "outputs": [
    {
     "name": "stdout",
     "output_type": "stream",
     "text": [
      "[[0.00159634 0.28712925 0.         ... 0.1377789  0.44612667 0.        ]]\n"
     ]
    }
   ],
   "source": [
    "print(features)"
   ]
  },
  {
   "cell_type": "code",
   "execution_count": 25,
   "id": "69991398-8bce-43dc-bd2e-c13147c71523",
   "metadata": {},
   "outputs": [
    {
     "name": "stdout",
     "output_type": "stream",
     "text": [
      "2048\n"
     ]
    }
   ],
   "source": [
    "print(len(features[0]))"
   ]
  },
  {
   "cell_type": "code",
   "execution_count": 10,
   "id": "dc7b93cd-b499-4481-906f-083d4cb654b6",
   "metadata": {},
   "outputs": [
    {
     "name": "stdout",
     "output_type": "stream",
     "text": [
      "<class 'numpy.ndarray'>\n"
     ]
    }
   ],
   "source": [
    "print(type(features))"
   ]
  },
  {
   "cell_type": "code",
   "execution_count": 20,
   "id": "d37de7e8-fbee-493d-9b5f-ce682b296b24",
   "metadata": {},
   "outputs": [
    {
     "name": "stdout",
     "output_type": "stream",
     "text": [
      "       0         1         2         3         4         5     6        7     \\\n",
      "0  0.885424  1.060664  0.202304  1.810687  0.813273  0.226395   0.0  1.15667   \n",
      "\n",
      "       8         9     ...      2038      2039     2040      2041      2042  \\\n",
      "0  0.842643  0.003858  ...  0.095699  0.212704  0.00746  0.050191  0.119849   \n",
      "\n",
      "      2043      2044     2045      2046      2047  \n",
      "0  0.33755  0.104761  0.80339  0.001263  0.317495  \n",
      "\n",
      "[1 rows x 2048 columns]\n"
     ]
    }
   ],
   "source": [
    "import pandas as pd\n",
    "\n",
    "df = pd.DataFrame(features)\n",
    "\n",
    "print(df)"
   ]
  },
  {
   "cell_type": "code",
   "execution_count": null,
   "id": "567040ac-9b77-4f9e-8ab2-3470c0c8afe3",
   "metadata": {},
   "outputs": [],
   "source": []
  }
 ],
 "metadata": {
  "kernelspec": {
   "display_name": "Python 3 (ipykernel)",
   "language": "python",
   "name": "python3"
  },
  "language_info": {
   "codemirror_mode": {
    "name": "ipython",
    "version": 3
   },
   "file_extension": ".py",
   "mimetype": "text/x-python",
   "name": "python",
   "nbconvert_exporter": "python",
   "pygments_lexer": "ipython3",
   "version": "3.11.0"
  }
 },
 "nbformat": 4,
 "nbformat_minor": 5
}
